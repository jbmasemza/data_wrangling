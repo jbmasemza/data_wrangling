{
 "cells": [
  {
   "cell_type": "markdown",
   "metadata": {},
   "source": [
    "### Load required libraries"
   ]
  },
  {
   "cell_type": "code",
   "execution_count": 33,
   "metadata": {},
   "outputs": [],
   "source": [
    "import pandas as  pd\n",
    "import numpy as np"
   ]
  },
  {
   "cell_type": "markdown",
   "metadata": {},
   "source": [
    "### Load and read in data"
   ]
  },
  {
   "cell_type": "code",
   "execution_count": 34,
   "metadata": {},
   "outputs": [
    {
     "data": {
      "text/html": [
       "<div>\n",
       "<style>\n",
       "    .dataframe thead tr:only-child th {\n",
       "        text-align: right;\n",
       "    }\n",
       "\n",
       "    .dataframe thead th {\n",
       "        text-align: left;\n",
       "    }\n",
       "\n",
       "    .dataframe tbody tr th {\n",
       "        vertical-align: top;\n",
       "    }\n",
       "</style>\n",
       "<table border=\"1\" class=\"dataframe\">\n",
       "  <thead>\n",
       "    <tr style=\"text-align: right;\">\n",
       "      <th></th>\n",
       "      <th>ID</th>\n",
       "      <th>Section 5 of 6 [I am always prepared.]</th>\n",
       "      <th>Section 5 of 6 [I am easily disturbed.]</th>\n",
       "      <th>Section 5 of 6 [I am exacting (demanding) in my work.]</th>\n",
       "      <th>Section 5 of 6 [I am full of ideas.]</th>\n",
       "      <th>Section 5 of 6 [I am interested in people.]</th>\n",
       "      <th>Section 5 of 6 [I am not interested in abstract ideas.]</th>\n",
       "      <th>Section 5 of 6 [I am not interested in other people's problems.]</th>\n",
       "      <th>Section 5 of 6 [I am not really interested in others.]</th>\n",
       "      <th>Section 5 of 6 [I am quick to understand things.]</th>\n",
       "      <th>...</th>\n",
       "      <th>Unnamed: 60</th>\n",
       "      <th>Unnamed: 61</th>\n",
       "      <th>Unnamed: 62</th>\n",
       "      <th>Unnamed: 63</th>\n",
       "      <th>Unnamed: 64</th>\n",
       "      <th>Unnamed: 65</th>\n",
       "      <th>Unnamed: 66</th>\n",
       "      <th>Unnamed: 67</th>\n",
       "      <th>Unnamed: 68</th>\n",
       "      <th>IPIP_HIGH_RISK</th>\n",
       "    </tr>\n",
       "  </thead>\n",
       "  <tbody>\n",
       "    <tr>\n",
       "      <th>0</th>\n",
       "      <td>0</td>\n",
       "      <td>(3, 5)</td>\n",
       "      <td>(4, 5)</td>\n",
       "      <td>(3, 5)</td>\n",
       "      <td>(5, 5)</td>\n",
       "      <td>(2, 3)</td>\n",
       "      <td>(5, 3)</td>\n",
       "      <td>(2, 3)</td>\n",
       "      <td>(2, 5)</td>\n",
       "      <td>(5, 5)</td>\n",
       "      <td>...</td>\n",
       "      <td>NaN</td>\n",
       "      <td>NaN</td>\n",
       "      <td>NaN</td>\n",
       "      <td>NaN</td>\n",
       "      <td>NaN</td>\n",
       "      <td>NaN</td>\n",
       "      <td>NaN</td>\n",
       "      <td>NaN</td>\n",
       "      <td>NaN</td>\n",
       "      <td>NaN</td>\n",
       "    </tr>\n",
       "    <tr>\n",
       "      <th>1</th>\n",
       "      <td>1</td>\n",
       "      <td>(3, 5)</td>\n",
       "      <td>(4, 5)</td>\n",
       "      <td>(3, 5)</td>\n",
       "      <td>(5, 5)</td>\n",
       "      <td>(2, 5)</td>\n",
       "      <td>(5, 3)</td>\n",
       "      <td>(2, 5)</td>\n",
       "      <td>(2, 5)</td>\n",
       "      <td>(5, 5)</td>\n",
       "      <td>...</td>\n",
       "      <td>NaN</td>\n",
       "      <td>NaN</td>\n",
       "      <td>NaN</td>\n",
       "      <td>NaN</td>\n",
       "      <td>NaN</td>\n",
       "      <td>NaN</td>\n",
       "      <td>NaN</td>\n",
       "      <td>NaN</td>\n",
       "      <td>NaN</td>\n",
       "      <td>NaN</td>\n",
       "    </tr>\n",
       "    <tr>\n",
       "      <th>2</th>\n",
       "      <td>2</td>\n",
       "      <td>(3, 5)</td>\n",
       "      <td>(4, 3)</td>\n",
       "      <td>(3, 3)</td>\n",
       "      <td>(5, 5)</td>\n",
       "      <td>(2, 5)</td>\n",
       "      <td>(5, 5)</td>\n",
       "      <td>(2, 5)</td>\n",
       "      <td>(2, 5)</td>\n",
       "      <td>(5, 5)</td>\n",
       "      <td>...</td>\n",
       "      <td>NaN</td>\n",
       "      <td>NaN</td>\n",
       "      <td>NaN</td>\n",
       "      <td>NaN</td>\n",
       "      <td>NaN</td>\n",
       "      <td>NaN</td>\n",
       "      <td>NaN</td>\n",
       "      <td>NaN</td>\n",
       "      <td>NaN</td>\n",
       "      <td>NaN</td>\n",
       "    </tr>\n",
       "    <tr>\n",
       "      <th>3</th>\n",
       "      <td>3</td>\n",
       "      <td>(3, 5)</td>\n",
       "      <td>(4, 5)</td>\n",
       "      <td>(3, 3)</td>\n",
       "      <td>(5, 5)</td>\n",
       "      <td>(2, 5)</td>\n",
       "      <td>(5, 3)</td>\n",
       "      <td>(2, 3)</td>\n",
       "      <td>(2, 3)</td>\n",
       "      <td>(5, 3)</td>\n",
       "      <td>...</td>\n",
       "      <td>NaN</td>\n",
       "      <td>NaN</td>\n",
       "      <td>NaN</td>\n",
       "      <td>NaN</td>\n",
       "      <td>NaN</td>\n",
       "      <td>NaN</td>\n",
       "      <td>NaN</td>\n",
       "      <td>NaN</td>\n",
       "      <td>NaN</td>\n",
       "      <td>NaN</td>\n",
       "    </tr>\n",
       "    <tr>\n",
       "      <th>4</th>\n",
       "      <td>4</td>\n",
       "      <td>(3, 3)</td>\n",
       "      <td>(4, 5)</td>\n",
       "      <td>(3, 3)</td>\n",
       "      <td>(5, 3)</td>\n",
       "      <td>(2, 3)</td>\n",
       "      <td>(5, 3)</td>\n",
       "      <td>(2, 3)</td>\n",
       "      <td>(2, 3)</td>\n",
       "      <td>(5, 5)</td>\n",
       "      <td>...</td>\n",
       "      <td>NaN</td>\n",
       "      <td>NaN</td>\n",
       "      <td>NaN</td>\n",
       "      <td>NaN</td>\n",
       "      <td>NaN</td>\n",
       "      <td>NaN</td>\n",
       "      <td>NaN</td>\n",
       "      <td>NaN</td>\n",
       "      <td>NaN</td>\n",
       "      <td>NaN</td>\n",
       "    </tr>\n",
       "  </tbody>\n",
       "</table>\n",
       "<p>5 rows × 70 columns</p>\n",
       "</div>"
      ],
      "text/plain": [
       "   ID Section 5 of 6 [I am always prepared.]  \\\n",
       "0   0                                 (3, 5)   \n",
       "1   1                                 (3, 5)   \n",
       "2   2                                 (3, 5)   \n",
       "3   3                                 (3, 5)   \n",
       "4   4                                 (3, 3)   \n",
       "\n",
       "  Section 5 of 6 [I am easily disturbed.]  \\\n",
       "0                                  (4, 5)   \n",
       "1                                  (4, 5)   \n",
       "2                                  (4, 3)   \n",
       "3                                  (4, 5)   \n",
       "4                                  (4, 5)   \n",
       "\n",
       "  Section 5 of 6 [I am exacting (demanding) in my work.]  \\\n",
       "0                                             (3, 5)       \n",
       "1                                             (3, 5)       \n",
       "2                                             (3, 3)       \n",
       "3                                             (3, 3)       \n",
       "4                                             (3, 3)       \n",
       "\n",
       "  Section 5 of 6 [I am full of ideas.]  \\\n",
       "0                               (5, 5)   \n",
       "1                               (5, 5)   \n",
       "2                               (5, 5)   \n",
       "3                               (5, 5)   \n",
       "4                               (5, 3)   \n",
       "\n",
       "  Section 5 of 6 [I am interested in people.]  \\\n",
       "0                                      (2, 3)   \n",
       "1                                      (2, 5)   \n",
       "2                                      (2, 5)   \n",
       "3                                      (2, 5)   \n",
       "4                                      (2, 3)   \n",
       "\n",
       "  Section 5 of 6 [I am not interested in abstract ideas.]  \\\n",
       "0                                             (5, 3)        \n",
       "1                                             (5, 3)        \n",
       "2                                             (5, 5)        \n",
       "3                                             (5, 3)        \n",
       "4                                             (5, 3)        \n",
       "\n",
       "  Section 5 of 6 [I am not interested in other people's problems.]  \\\n",
       "0                                             (2, 3)                 \n",
       "1                                             (2, 5)                 \n",
       "2                                             (2, 5)                 \n",
       "3                                             (2, 3)                 \n",
       "4                                             (2, 3)                 \n",
       "\n",
       "  Section 5 of 6 [I am not really interested in others.]  \\\n",
       "0                                             (2, 5)       \n",
       "1                                             (2, 5)       \n",
       "2                                             (2, 5)       \n",
       "3                                             (2, 3)       \n",
       "4                                             (2, 3)       \n",
       "\n",
       "  Section 5 of 6 [I am quick to understand things.]      ...        \\\n",
       "0                                            (5, 5)      ...         \n",
       "1                                            (5, 5)      ...         \n",
       "2                                            (5, 5)      ...         \n",
       "3                                            (5, 3)      ...         \n",
       "4                                            (5, 5)      ...         \n",
       "\n",
       "  Unnamed: 60 Unnamed: 61 Unnamed: 62 Unnamed: 63 Unnamed: 64 Unnamed: 65  \\\n",
       "0         NaN         NaN         NaN         NaN         NaN         NaN   \n",
       "1         NaN         NaN         NaN         NaN         NaN         NaN   \n",
       "2         NaN         NaN         NaN         NaN         NaN         NaN   \n",
       "3         NaN         NaN         NaN         NaN         NaN         NaN   \n",
       "4         NaN         NaN         NaN         NaN         NaN         NaN   \n",
       "\n",
       "  Unnamed: 66 Unnamed: 67 Unnamed: 68 IPIP_HIGH_RISK  \n",
       "0         NaN         NaN         NaN            NaN  \n",
       "1         NaN         NaN         NaN            NaN  \n",
       "2         NaN         NaN         NaN            NaN  \n",
       "3         NaN         NaN         NaN            NaN  \n",
       "4         NaN         NaN         NaN            NaN  \n",
       "\n",
       "[5 rows x 70 columns]"
      ]
     },
     "execution_count": 34,
     "metadata": {},
     "output_type": "execute_result"
    }
   ],
   "source": [
    "df = pd.read_csv(\"personality_scores.csv\", delimiter = ';')\n",
    "df.head()"
   ]
  },
  {
   "cell_type": "markdown",
   "metadata": {},
   "source": [
    "### Examine the data set"
   ]
  },
  {
   "cell_type": "code",
   "execution_count": 35,
   "metadata": {},
   "outputs": [
    {
     "name": "stdout",
     "output_type": "stream",
     "text": [
      "Number of responsers are :  1555\n"
     ]
    }
   ],
   "source": [
    "df.shape\n",
    "print('Number of responsers are : ',len(df))"
   ]
  },
  {
   "cell_type": "markdown",
   "metadata": {},
   "source": [
    "### Checking missing values"
   ]
  },
  {
   "cell_type": "code",
   "execution_count": 36,
   "metadata": {},
   "outputs": [
    {
     "data": {
      "text/plain": [
       "29545"
      ]
     },
     "execution_count": 36,
     "metadata": {},
     "output_type": "execute_result"
    }
   ],
   "source": [
    "null_values= df.isnull().sum().sum()\n",
    "null_values"
   ]
  },
  {
   "cell_type": "markdown",
   "metadata": {},
   "source": [
    "### Examining the data frame for duplicates (based on ID),"
   ]
  },
  {
   "cell_type": "code",
   "execution_count": 22,
   "metadata": {},
   "outputs": [
    {
     "data": {
      "text/html": [
       "<div>\n",
       "<style>\n",
       "    .dataframe thead tr:only-child th {\n",
       "        text-align: right;\n",
       "    }\n",
       "\n",
       "    .dataframe thead th {\n",
       "        text-align: left;\n",
       "    }\n",
       "\n",
       "    .dataframe tbody tr th {\n",
       "        vertical-align: top;\n",
       "    }\n",
       "</style>\n",
       "<table border=\"1\" class=\"dataframe\">\n",
       "  <thead>\n",
       "    <tr style=\"text-align: right;\">\n",
       "      <th></th>\n",
       "      <th>ID</th>\n",
       "      <th>Section 5 of 6 [I am always prepared.]</th>\n",
       "      <th>Section 5 of 6 [I am easily disturbed.]</th>\n",
       "      <th>Section 5 of 6 [I am exacting (demanding) in my work.]</th>\n",
       "      <th>Section 5 of 6 [I am full of ideas.]</th>\n",
       "      <th>Section 5 of 6 [I am interested in people.]</th>\n",
       "      <th>Section 5 of 6 [I am not interested in abstract ideas.]</th>\n",
       "      <th>Section 5 of 6 [I am not interested in other people's problems.]</th>\n",
       "      <th>Section 5 of 6 [I am not really interested in others.]</th>\n",
       "      <th>Section 5 of 6 [I am quick to understand things.]</th>\n",
       "      <th>...</th>\n",
       "      <th>Unnamed: 60</th>\n",
       "      <th>Unnamed: 61</th>\n",
       "      <th>Unnamed: 62</th>\n",
       "      <th>Unnamed: 63</th>\n",
       "      <th>Unnamed: 64</th>\n",
       "      <th>Unnamed: 65</th>\n",
       "      <th>Unnamed: 66</th>\n",
       "      <th>Unnamed: 67</th>\n",
       "      <th>Unnamed: 68</th>\n",
       "      <th>IPIP_HIGH_RISK</th>\n",
       "    </tr>\n",
       "  </thead>\n",
       "  <tbody>\n",
       "  </tbody>\n",
       "</table>\n",
       "<p>0 rows × 70 columns</p>\n",
       "</div>"
      ],
      "text/plain": [
       "Empty DataFrame\n",
       "Columns: [ID, Section 5 of 6 [I am always prepared.], Section 5 of 6 [I am easily disturbed.], Section 5 of 6 [I am exacting (demanding) in my work.], Section 5 of 6 [I am full of ideas.], Section 5 of 6 [I am interested in people.], Section 5 of 6 [I am not interested in abstract ideas.], Section 5 of 6 [I am not interested in other people's problems.], Section 5 of 6 [I am not really interested in others.], Section 5 of 6 [I am quick to understand things.], Section 5 of 6 [I am quiet around strangers.], Section 5 of 6 [I am relaxed most of the time.], Section 5 of 6 [I am the life of the party.], Section 5 of 6 [I change my mood a lot.], Section 5 of 6 [I do not have a good imagination.], Section 5 of 6 [I don't like to draw attention to myself.], Section 5 of 6 [I don't mind being the center of attention.], Section 5 of 6 [I don't talk a lot.], Section 5 of 6 [I feel comfortable around people.], Section 5 of 6 [I feel little concern for others.], Section 5 of 6 [I feel others' emotions.], Section 5 of 6 [I follow a schedule.], Section 5 of 6 [I get chores done right away.], Section 5 of 6 [I get irritated easily.], Section 5 of 6 [I get stressed out easily.], Section 5 of 6 [I get upset easily.], Section 5 of 6 [I have a rich vocabulary.], Section 5 of 6 [I have a soft (kind) heart.], Section 5 of 6 [I have a vivid imagination.], Section 5 of 6 [I have difficulty understanding abstract ideas.], Section 5 of 6 [I have excellent ideas.], Section 5 of 6 [I have frequent mood swings.], Section 5 of 6 [I have little to say.], Section 5 of 6 [I insult people.], Section 5 of 6 [I keep in the background.], Section 5 of 6 [I leave my belongings lying around.], Section 5 of 6 [I like order.], Section 5 of 6 [I make a mess of things.], Section 5 of 6 [I make people feel at ease.], Section 5 of 6 [I neglect my duties.], Section 5 of 6 [I often feel blue (down).], Section 5 of 6 [I often forget to put things back in their proper place], Section 5 of 6 [I pay attention to details.], Section 5 of 6 [I seldom feel blue (down).], Section 5 of 6 [I spend time reflecting on things.], Section 5 of 6 [I start conversations.], Section 5 of 6 [I sympathize with others' feelings.], Section 5 of 6 [I take time out for others.], Section 5 of 6 [I talk to a lot of different people at parties.], Section 5 of 6 [I use difficult words.], Section 5 of 6 [I worry about things.], Unnamed: 51, Unnamed: 52, Unnamed: 53, Unnamed: 54, Unnamed: 55, Unnamed: 56, Unnamed: 57, Unnamed: 58, Unnamed: 59, Unnamed: 60, Unnamed: 61, Unnamed: 62, Unnamed: 63, Unnamed: 64, Unnamed: 65, Unnamed: 66, Unnamed: 67, Unnamed: 68, IPIP_HIGH_RISK]\n",
       "Index: []\n",
       "\n",
       "[0 rows x 70 columns]"
      ]
     },
     "execution_count": 22,
     "metadata": {},
     "output_type": "execute_result"
    }
   ],
   "source": [
    "df_duplicate = df[df.duplicated(['ID'])]\n",
    "df_duplicate"
   ]
  },
  {
   "cell_type": "markdown",
   "metadata": {},
   "source": [
    "### Dropping  duplicates that exist"
   ]
  },
  {
   "cell_type": "code",
   "execution_count": 25,
   "metadata": {},
   "outputs": [
    {
     "data": {
      "text/plain": [
       "True"
      ]
     },
     "execution_count": 25,
     "metadata": {},
     "output_type": "execute_result"
    }
   ],
   "source": [
    "df.drop_duplicates(subset=['ID'], inplace=True)\n",
    "df['ID'].unique().sum() == df['ID'].sum()"
   ]
  },
  {
   "cell_type": "code",
   "execution_count": null,
   "metadata": {
    "collapsed": true
   },
   "outputs": [],
   "source": []
  }
 ],
 "metadata": {
  "kernelspec": {
   "display_name": "Python 3",
   "language": "python",
   "name": "python3"
  },
  "language_info": {
   "codemirror_mode": {
    "name": "ipython",
    "version": 3
   },
   "file_extension": ".py",
   "mimetype": "text/x-python",
   "name": "python",
   "nbconvert_exporter": "python",
   "pygments_lexer": "ipython3",
   "version": "3.6.3"
  }
 },
 "nbformat": 4,
 "nbformat_minor": 2
}
